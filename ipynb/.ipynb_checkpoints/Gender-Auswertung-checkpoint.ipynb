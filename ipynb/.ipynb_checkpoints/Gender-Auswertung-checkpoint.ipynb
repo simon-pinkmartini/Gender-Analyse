{
 "cells": [
  {
   "cell_type": "markdown",
   "metadata": {},
   "source": [
    "# Gender-Auswertung erste drei Republik-Jahre"
   ]
  },
  {
   "cell_type": "markdown",
   "metadata": {},
   "source": [
    "Dieses Skript lädt Daten aus Google Sheets, erstellt einige deskriptive Statistiken und exportiert fixfertige csv-Dateien, die ins Publikator-Charttool reinkopiert werden können."
   ]
  },
  {
   "cell_type": "markdown",
   "metadata": {},
   "source": [
    "## Setup"
   ]
  },
  {
   "cell_type": "code",
   "execution_count": 2,
   "metadata": {},
   "outputs": [],
   "source": [
    "import pandas as pd"
   ]
  },
  {
   "cell_type": "code",
   "execution_count": 91,
   "metadata": {},
   "outputs": [],
   "source": [
    "import numpy as np"
   ]
  },
  {
   "cell_type": "code",
   "execution_count": 3,
   "metadata": {},
   "outputs": [],
   "source": [
    "%matplotlib inline"
   ]
  },
  {
   "cell_type": "markdown",
   "metadata": {},
   "source": [
    "## Daten laden"
   ]
  },
  {
   "cell_type": "code",
   "execution_count": 21,
   "metadata": {},
   "outputs": [],
   "source": [
    "url = \"https://docs.google.com/spreadsheets/d/1mnWP9D4VrU-Dxc4cnGNvs4Yf-a94Xs-3sZUyKDOu0Pk/gviz/tq?tqx=out:csv&sheet=Stories\""
   ]
  },
  {
   "cell_type": "code",
   "execution_count": 94,
   "metadata": {},
   "outputs": [],
   "source": [
    "# df = pd.read_csv(url) For some reason this don't work\n",
    "df = pd.read_csv('../data/data.csv')"
   ]
  },
  {
   "cell_type": "code",
   "execution_count": 95,
   "metadata": {},
   "outputs": [
    {
     "data": {
      "text/html": [
       "<div>\n",
       "<style scoped>\n",
       "    .dataframe tbody tr th:only-of-type {\n",
       "        vertical-align: middle;\n",
       "    }\n",
       "\n",
       "    .dataframe tbody tr th {\n",
       "        vertical-align: top;\n",
       "    }\n",
       "\n",
       "    .dataframe thead th {\n",
       "        text-align: right;\n",
       "    }\n",
       "</style>\n",
       "<table border=\"1\" class=\"dataframe\">\n",
       "  <thead>\n",
       "    <tr style=\"text-align: right;\">\n",
       "      <th></th>\n",
       "      <th>formatRepoId</th>\n",
       "      <th>repoId</th>\n",
       "      <th>template</th>\n",
       "      <th>date</th>\n",
       "      <th>Jahr</th>\n",
       "      <th>Format</th>\n",
       "      <th>Titel</th>\n",
       "      <th>url</th>\n",
       "      <th>Link</th>\n",
       "      <th>Sachbearbeiterin</th>\n",
       "      <th>...</th>\n",
       "      <th>Unnamed: 21</th>\n",
       "      <th>Unnamed: 22</th>\n",
       "      <th>Unnamed: 23</th>\n",
       "      <th>Unnamed: 24</th>\n",
       "      <th>Unnamed: 25</th>\n",
       "      <th>Unnamed: 26</th>\n",
       "      <th>Unnamed: 27</th>\n",
       "      <th>Unnamed: 28</th>\n",
       "      <th>Unnamed: 29</th>\n",
       "      <th>Unnamed: 30</th>\n",
       "    </tr>\n",
       "  </thead>\n",
       "  <tbody>\n",
       "    <tr>\n",
       "      <td>0</td>\n",
       "      <td>NaN</td>\n",
       "      <td>republik/article-der-protest-als-kulisse</td>\n",
       "      <td>article</td>\n",
       "      <td>30.05.2020</td>\n",
       "      <td>2020</td>\n",
       "      <td>NaN</td>\n",
       "      <td>Der Malwiederstand</td>\n",
       "      <td>https://www.republik.ch/2020/05/30/der-malwied...</td>\n",
       "      <td>Beitrag</td>\n",
       "      <td>oku</td>\n",
       "      <td>...</td>\n",
       "      <td>NaN</td>\n",
       "      <td>NaN</td>\n",
       "      <td>NaN</td>\n",
       "      <td>NaN</td>\n",
       "      <td>NaN</td>\n",
       "      <td>NaN</td>\n",
       "      <td>NaN</td>\n",
       "      <td>NaN</td>\n",
       "      <td>NaN</td>\n",
       "      <td>NaN</td>\n",
       "    </tr>\n",
       "    <tr>\n",
       "      <td>1</td>\n",
       "      <td>republik/format-binswanger</td>\n",
       "      <td>republik/article-locker-konsequent</td>\n",
       "      <td>article</td>\n",
       "      <td>30.05.2020</td>\n",
       "      <td>2020</td>\n",
       "      <td>Binswanger</td>\n",
       "      <td>Mehr Freiheit, mehr Vorsicht?</td>\n",
       "      <td>https://www.republik.ch/2020/05/30/mehr-freihe...</td>\n",
       "      <td>Beitrag</td>\n",
       "      <td>pae</td>\n",
       "      <td>...</td>\n",
       "      <td>NaN</td>\n",
       "      <td>NaN</td>\n",
       "      <td>NaN</td>\n",
       "      <td>NaN</td>\n",
       "      <td>NaN</td>\n",
       "      <td>NaN</td>\n",
       "      <td>NaN</td>\n",
       "      <td>NaN</td>\n",
       "      <td>NaN</td>\n",
       "      <td>NaN</td>\n",
       "    </tr>\n",
       "  </tbody>\n",
       "</table>\n",
       "<p>2 rows × 31 columns</p>\n",
       "</div>"
      ],
      "text/plain": [
       "                 formatRepoId                                    repoId  \\\n",
       "0                         NaN  republik/article-der-protest-als-kulisse   \n",
       "1  republik/format-binswanger        republik/article-locker-konsequent   \n",
       "\n",
       "  template        date  Jahr      Format                          Titel  \\\n",
       "0  article  30.05.2020  2020         NaN             Der Malwiederstand   \n",
       "1  article  30.05.2020  2020  Binswanger  Mehr Freiheit, mehr Vorsicht?   \n",
       "\n",
       "                                                 url     Link  \\\n",
       "0  https://www.republik.ch/2020/05/30/der-malwied...  Beitrag   \n",
       "1  https://www.republik.ch/2020/05/30/mehr-freihe...  Beitrag   \n",
       "\n",
       "  Sachbearbeiterin  ... Unnamed: 21 Unnamed: 22 Unnamed: 23 Unnamed: 24  \\\n",
       "0              oku  ...         NaN         NaN         NaN         NaN   \n",
       "1              pae  ...         NaN         NaN         NaN         NaN   \n",
       "\n",
       "   Unnamed: 25  Unnamed: 26  Unnamed: 27  Unnamed: 28 Unnamed: 29  Unnamed: 30  \n",
       "0          NaN          NaN          NaN          NaN         NaN          NaN  \n",
       "1          NaN          NaN          NaN          NaN         NaN          NaN  \n",
       "\n",
       "[2 rows x 31 columns]"
      ]
     },
     "execution_count": 95,
     "metadata": {},
     "output_type": "execute_result"
    }
   ],
   "source": [
    "df.head(2)"
   ]
  },
  {
   "cell_type": "markdown",
   "metadata": {},
   "source": [
    "**Einfachere Spaltennamen**"
   ]
  },
  {
   "cell_type": "code",
   "execution_count": 96,
   "metadata": {},
   "outputs": [
    {
     "data": {
      "text/plain": [
       "Index(['formatRepoId', 'repoId', 'template', 'date', 'Jahr', 'Format', 'Titel',\n",
       "       'url', 'Link', 'Sachbearbeiterin', '0) Autorinnenzeile',\n",
       "       'a) Frau(en) im Text', 'b) Rolle der Frau(en)',\n",
       "       'c) Frau(en) in tragender Rolle', 'd-1) Anzahl Männer als Experten',\n",
       "       'd-2) Anzahl Frauen als Experten', 'e-1) Anzahl Männer als Betroffene',\n",
       "       'e-2) Anzahl Frauen als Betroffene', 'Schwierigkeiten', 'Unnamed: 19',\n",
       "       'Unnamed: 20', 'Unnamed: 21', 'Unnamed: 22', 'Unnamed: 23',\n",
       "       'Unnamed: 24', 'Unnamed: 25', 'Unnamed: 26', 'Unnamed: 27',\n",
       "       'Unnamed: 28', 'Unnamed: 29', 'Unnamed: 30'],\n",
       "      dtype='object')"
      ]
     },
     "execution_count": 96,
     "metadata": {},
     "output_type": "execute_result"
    }
   ],
   "source": [
    "df.columns"
   ]
  },
  {
   "cell_type": "code",
   "execution_count": 97,
   "metadata": {},
   "outputs": [],
   "source": [
    "columns_new = [\n",
    "    \"formatRepoId\",\n",
    "    \"repoId\",\n",
    "    \"template\",\n",
    "    \"Datum\",\n",
    "    \"Jahr\",\n",
    "    \"Format\",\n",
    "    \"Titel\",\n",
    "    \"Url\",\n",
    "    \"Link\",\n",
    "    \"Sachbearbeiterin\",\n",
    "    \"Autorinnenzeile\",\n",
    "    \"hatFrauen\",\n",
    "    \"RolleFrauen\",\n",
    "    \"hatTragendeFrauen\",\n",
    "    \"nMännerExperten\",\n",
    "    \"nFrauenExperten\",\n",
    "    \"nMännerProtagonisten\",\n",
    "    \"nFrauenProtagonisten\",\n",
    "    \"Schwierigkeiten\"\n",
    "]"
   ]
  },
  {
   "cell_type": "code",
   "execution_count": 98,
   "metadata": {},
   "outputs": [],
   "source": [
    "column_converter = dict(zip(df.columns, columns_new))"
   ]
  },
  {
   "cell_type": "code",
   "execution_count": 99,
   "metadata": {},
   "outputs": [],
   "source": [
    "df = df.rename(columns=column_converter)"
   ]
  },
  {
   "cell_type": "code",
   "execution_count": 100,
   "metadata": {},
   "outputs": [],
   "source": [
    "df = df[columns_new]"
   ]
  },
  {
   "cell_type": "code",
   "execution_count": 101,
   "metadata": {},
   "outputs": [
    {
     "data": {
      "text/html": [
       "<div>\n",
       "<style scoped>\n",
       "    .dataframe tbody tr th:only-of-type {\n",
       "        vertical-align: middle;\n",
       "    }\n",
       "\n",
       "    .dataframe tbody tr th {\n",
       "        vertical-align: top;\n",
       "    }\n",
       "\n",
       "    .dataframe thead th {\n",
       "        text-align: right;\n",
       "    }\n",
       "</style>\n",
       "<table border=\"1\" class=\"dataframe\">\n",
       "  <thead>\n",
       "    <tr style=\"text-align: right;\">\n",
       "      <th></th>\n",
       "      <th>formatRepoId</th>\n",
       "      <th>repoId</th>\n",
       "      <th>template</th>\n",
       "      <th>Datum</th>\n",
       "      <th>Jahr</th>\n",
       "      <th>Format</th>\n",
       "      <th>Titel</th>\n",
       "      <th>Url</th>\n",
       "      <th>Link</th>\n",
       "      <th>Sachbearbeiterin</th>\n",
       "      <th>Autorinnenzeile</th>\n",
       "      <th>hatFrauen</th>\n",
       "      <th>RolleFrauen</th>\n",
       "      <th>hatTragendeFrauen</th>\n",
       "      <th>nMännerExperten</th>\n",
       "      <th>nFrauenExperten</th>\n",
       "      <th>nMännerProtagonisten</th>\n",
       "      <th>nFrauenProtagonisten</th>\n",
       "      <th>Schwierigkeiten</th>\n",
       "    </tr>\n",
       "  </thead>\n",
       "  <tbody>\n",
       "    <tr>\n",
       "      <td>0</td>\n",
       "      <td>NaN</td>\n",
       "      <td>republik/article-der-protest-als-kulisse</td>\n",
       "      <td>article</td>\n",
       "      <td>30.05.2020</td>\n",
       "      <td>2020</td>\n",
       "      <td>NaN</td>\n",
       "      <td>Der Malwiederstand</td>\n",
       "      <td>https://www.republik.ch/2020/05/30/der-malwied...</td>\n",
       "      <td>Beitrag</td>\n",
       "      <td>oku</td>\n",
       "      <td>nur weiblich</td>\n",
       "      <td>Ja</td>\n",
       "      <td>beides</td>\n",
       "      <td>Ja</td>\n",
       "      <td>6.0</td>\n",
       "      <td>2.0</td>\n",
       "      <td>8.0</td>\n",
       "      <td>2.0</td>\n",
       "      <td>NaN</td>\n",
       "    </tr>\n",
       "    <tr>\n",
       "      <td>1</td>\n",
       "      <td>republik/format-binswanger</td>\n",
       "      <td>republik/article-locker-konsequent</td>\n",
       "      <td>article</td>\n",
       "      <td>30.05.2020</td>\n",
       "      <td>2020</td>\n",
       "      <td>Binswanger</td>\n",
       "      <td>Mehr Freiheit, mehr Vorsicht?</td>\n",
       "      <td>https://www.republik.ch/2020/05/30/mehr-freihe...</td>\n",
       "      <td>Beitrag</td>\n",
       "      <td>pae</td>\n",
       "      <td>nur männlich</td>\n",
       "      <td>Nein</td>\n",
       "      <td>NaN</td>\n",
       "      <td>Nein</td>\n",
       "      <td>2.0</td>\n",
       "      <td>0.0</td>\n",
       "      <td>0.0</td>\n",
       "      <td>0.0</td>\n",
       "      <td>NaN</td>\n",
       "    </tr>\n",
       "  </tbody>\n",
       "</table>\n",
       "</div>"
      ],
      "text/plain": [
       "                 formatRepoId                                    repoId  \\\n",
       "0                         NaN  republik/article-der-protest-als-kulisse   \n",
       "1  republik/format-binswanger        republik/article-locker-konsequent   \n",
       "\n",
       "  template       Datum  Jahr      Format                          Titel  \\\n",
       "0  article  30.05.2020  2020         NaN             Der Malwiederstand   \n",
       "1  article  30.05.2020  2020  Binswanger  Mehr Freiheit, mehr Vorsicht?   \n",
       "\n",
       "                                                 Url     Link  \\\n",
       "0  https://www.republik.ch/2020/05/30/der-malwied...  Beitrag   \n",
       "1  https://www.republik.ch/2020/05/30/mehr-freihe...  Beitrag   \n",
       "\n",
       "  Sachbearbeiterin Autorinnenzeile hatFrauen RolleFrauen hatTragendeFrauen  \\\n",
       "0              oku    nur weiblich        Ja      beides                Ja   \n",
       "1              pae    nur männlich      Nein         NaN              Nein   \n",
       "\n",
       "   nMännerExperten  nFrauenExperten  nMännerProtagonisten  \\\n",
       "0              6.0              2.0                   8.0   \n",
       "1              2.0              0.0                   0.0   \n",
       "\n",
       "   nFrauenProtagonisten Schwierigkeiten  \n",
       "0                   2.0             NaN  \n",
       "1                   0.0             NaN  "
      ]
     },
     "execution_count": 101,
     "metadata": {},
     "output_type": "execute_result"
    }
   ],
   "source": [
    "df.head(2)"
   ]
  },
  {
   "cell_type": "code",
   "execution_count": null,
   "metadata": {},
   "outputs": [],
   "source": []
  },
  {
   "cell_type": "markdown",
   "metadata": {},
   "source": [
    "## Daten putzen"
   ]
  },
  {
   "cell_type": "markdown",
   "metadata": {},
   "source": [
    "**Autorinnenzeile**"
   ]
  },
  {
   "cell_type": "code",
   "execution_count": 102,
   "metadata": {},
   "outputs": [],
   "source": [
    "df[~df['Autorinnenzeile'].isin([\"nur männlich\", \"beides\", \"nur weiblich\"])] = np.nan"
   ]
  },
  {
   "cell_type": "code",
   "execution_count": 103,
   "metadata": {},
   "outputs": [
    {
     "data": {
      "text/plain": [
       "nur männlich    106\n",
       "nur weiblich     73\n",
       "beides           27\n",
       "Name: Autorinnenzeile, dtype: int64"
      ]
     },
     "execution_count": 103,
     "metadata": {},
     "output_type": "execute_result"
    }
   ],
   "source": [
    "df['Autorinnenzeile'].value_counts()"
   ]
  },
  {
   "cell_type": "code",
   "execution_count": 104,
   "metadata": {},
   "outputs": [],
   "source": [
    "df.Autorinnenzeile = df.Autorinnenzeile.astype(\"category\")"
   ]
  },
  {
   "cell_type": "code",
   "execution_count": 105,
   "metadata": {},
   "outputs": [],
   "source": [
    "sorterAutorinnenzeile = [\"nur männlich\", \"beides\", \"nur weiblich\"]"
   ]
  },
  {
   "cell_type": "code",
   "execution_count": 107,
   "metadata": {},
   "outputs": [],
   "source": [
    "df.Autorinnenzeile.cat.set_categories(sorterAutorinnenzeile, inplace=True)"
   ]
  },
  {
   "cell_type": "markdown",
   "metadata": {},
   "source": [
    "## Übersicht über kategorisierte Beiträge"
   ]
  },
  {
   "cell_type": "markdown",
   "metadata": {},
   "source": [
    "**Anzahl Beiträge nach Periode**"
   ]
  },
  {
   "cell_type": "code",
   "execution_count": 108,
   "metadata": {},
   "outputs": [
    {
     "data": {
      "text/plain": [
       "<matplotlib.axes._subplots.AxesSubplot at 0x11d416a58>"
      ]
     },
     "execution_count": 108,
     "metadata": {},
     "output_type": "execute_result"
    },
    {
     "data": {
      "image/png": "[encoded data removed]",
      "text/plain": [
       "<Figure size 360x144 with 1 Axes>"
      ]
     },
     "metadata": {
      "needs_background": "light"
     },
     "output_type": "display_data"
    }
   ],
   "source": [
    "df['Jahr'].value_counts().plot(kind='barh', figsize=(5, 2), title='Anzahl Beiträge')"
   ]
  },
  {
   "cell_type": "code",
   "execution_count": 109,
   "metadata": {},
   "outputs": [],
   "source": [
    "df['Datum'] = pd.to_datetime(df['Datum'], format='%d.%m.%Y')\n",
    "df['Periode'] = df['Datum'].astype('datetime64[M]')"
   ]
  },
  {
   "cell_type": "code",
   "execution_count": 110,
   "metadata": {},
   "outputs": [
    {
     "data": {
      "text/plain": [
       "<matplotlib.axes._subplots.AxesSubplot at 0x11d70e5f8>"
      ]
     },
     "execution_count": 110,
     "metadata": {},
     "output_type": "execute_result"
    },
    {
     "data": {
      "image/png": "[encoded data removed]",
      "text/plain": [
       "<Figure size 360x216 with 1 Axes>"
      ]
     },
     "metadata": {
      "needs_background": "light"
     },
     "output_type": "display_data"
    }
   ],
   "source": [
    "df['Periode'].value_counts().sort_index().plot(kind='barh', figsize=(5, 3), title='Anzahl Beiträge')"
   ]
  },
  {
   "cell_type": "code",
   "execution_count": null,
   "metadata": {},
   "outputs": [],
   "source": []
  },
  {
   "cell_type": "markdown",
   "metadata": {},
   "source": [
    "## Autorinnen und Autoren"
   ]
  },
  {
   "cell_type": "markdown",
   "metadata": {},
   "source": [
    "**Gesamtzeitraum**"
   ]
  },
  {
   "cell_type": "code",
   "execution_count": 153,
   "metadata": {},
   "outputs": [
    {
     "data": {
      "text/plain": [
       "<matplotlib.axes._subplots.AxesSubplot at 0x11ddf7588>"
      ]
     },
     "execution_count": 153,
     "metadata": {},
     "output_type": "execute_result"
    },
    {
     "data": {
      "image/png": "[encoded data removed]",
      "text/plain": [
       "<Figure size 720x144 with 1 Axes>"
      ]
     },
     "metadata": {
      "needs_background": "light"
     },
     "output_type": "display_data"
    }
   ],
   "source": [
    "gr = df['Autorinnenzeile'].value_counts(normalize=True)\n",
    "gr = gr.to_frame().sort_index().T\n",
    "gr.plot(kind='barh', stacked=True, figsize=(10,2))"
   ]
  },
  {
   "cell_type": "markdown",
   "metadata": {},
   "source": [
    "**pro Jahr**"
   ]
  },
  {
   "cell_type": "code",
   "execution_count": 155,
   "metadata": {},
   "outputs": [
    {
     "data": {
      "text/plain": [
       "<matplotlib.axes._subplots.AxesSubplot at 0x11decf4e0>"
      ]
     },
     "execution_count": 155,
     "metadata": {},
     "output_type": "execute_result"
    },
    {
     "data": {
      "image/png": "[encoded data removed]",
      "text/plain": [
       "<Figure size 720x288 with 1 Axes>"
      ]
     },
     "metadata": {
      "needs_background": "light"
     },
     "output_type": "display_data"
    }
   ],
   "source": [
    "gr = df.groupby('Jahr')['Autorinnenzeile'].value_counts(normalize=True)\n",
    "gr = gr.to_frame().rename(columns={'Autorinnenzeile': 'value'}).reset_index()\n",
    "gr = gr.pivot(index='Jahr', columns='Autorinnenzeile', values='value')\n",
    "gr = gr[sorterAutorinnenzeile]\n",
    "gr.plot(kind='barh', stacked=True, figsize=(10,4))"
   ]
  },
  {
   "cell_type": "markdown",
   "metadata": {},
   "source": [
    "**pro Periode**"
   ]
  },
  {
   "cell_type": "code",
   "execution_count": 157,
   "metadata": {},
   "outputs": [
    {
     "data": {
      "text/plain": [
       "<matplotlib.axes._subplots.AxesSubplot at 0x11df9f780>"
      ]
     },
     "execution_count": 157,
     "metadata": {},
     "output_type": "execute_result"
    },
    {
     "data": {
      "image/png": "[encoded data removed]",
      "text/plain": [
       "<Figure size 720x288 with 1 Axes>"
      ]
     },
     "metadata": {
      "needs_background": "light"
     },
     "output_type": "display_data"
    }
   ],
   "source": [
    "gr = df.groupby('Periode')['Autorinnenzeile'].value_counts(normalize=True)\n",
    "gr = gr.to_frame().rename(columns={'Autorinnenzeile': 'value'}).reset_index()\n",
    "gr = gr.pivot(index='Periode', columns='Autorinnenzeile', values='value')\n",
    "gr = gr[sorterAutorinnenzeile]\n",
    "gr.plot(kind='barh', stacked=True, figsize=(10,4))"
   ]
  },
  {
   "cell_type": "code",
   "execution_count": null,
   "metadata": {},
   "outputs": [],
   "source": []
  },
  {
   "cell_type": "code",
   "execution_count": null,
   "metadata": {},
   "outputs": [],
   "source": []
  }
 ],
 "metadata": {
  "kernelspec": {
   "display_name": "Python 3",
   "language": "python",
   "name": "python3"
  },
  "language_info": {
   "codemirror_mode": {
    "name": "ipython",
    "version": 3
   },
   "file_extension": ".py",
   "mimetype": "text/x-python",
   "name": "python",
   "nbconvert_exporter": "python",
   "pygments_lexer": "ipython3",
   "version": "3.7.3"
  }
 },
 "nbformat": 4,
 "nbformat_minor": 2
}
